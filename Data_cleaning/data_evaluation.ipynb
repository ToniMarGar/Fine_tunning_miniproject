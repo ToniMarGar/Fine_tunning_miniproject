{
 "cells": [
  {
   "cell_type": "code",
   "execution_count": 2,
   "id": "32307e7c-c3cf-4d8d-84a3-a972f9fac7e9",
   "metadata": {},
   "outputs": [],
   "source": [
    "import pandas as pd\n",
    "csv_file_path = '../Raw_Dataset/tweets_politica_kaggle.csv'"
   ]
  },
  {
   "cell_type": "code",
   "execution_count": 3,
   "id": "a057c1e4-1cbd-46ab-89b1-679e9a4e1a92",
   "metadata": {},
   "outputs": [
    {
     "name": "stdout",
     "output_type": "stream",
     "text": [
      "cuenta\tpartido\ttimestamp\ttweet\n",
      "\n",
      "a34133350b0605cb24081843f63176ca\tpsoe\t1363973492.0\t@vesteve3 @manubenas @ccoo_rm @desobediencia_ @ccoo @emparempar (Buen ánimo para esta primavera que iniciamos).\n",
      "\n",
      "a34133350b0605cb24081843f63176ca\tpsoe\t1364061035.0\t\"“@kirovast: @Hugo_Moran muy fan de la \"\"radicalidad social\"\"” (Frente a la devaluación democrática).\"\n",
      "\n",
      "a34133350b0605cb24081843f63176ca\tpsoe\t1364116804.0\t@ALTAS_PRESIONES Nuevos dueños para las renovables. En ese momento ya no serán un problema sino una apuesta magnífica.\n",
      "\n",
      "a34133350b0605cb24081843f63176ca\tpsoe\t1364120967.0\t@jumanjisolar @solartradex @josea_dolera El diferencial de precios energéticos con Alemania o Francia sigue siendo el mismo, 8-11 €/MWh.\n",
      "\n"
     ]
    }
   ],
   "source": [
    "# Ver las primeras líneas del archivo para identificar el delimitador\n",
    "with open(csv_file_path, 'r') as file:\n",
    "    for i in range(5):  # Mostrar las primeras 5 líneas\n",
    "        print(file.readline())"
   ]
  },
  {
   "cell_type": "code",
   "execution_count": 4,
   "id": "bf05e6c3-bb9d-434e-ba0e-38f648e44074",
   "metadata": {},
   "outputs": [
    {
     "data": {
      "text/html": [
       "<div>\n",
       "<style scoped>\n",
       "    .dataframe tbody tr th:only-of-type {\n",
       "        vertical-align: middle;\n",
       "    }\n",
       "\n",
       "    .dataframe tbody tr th {\n",
       "        vertical-align: top;\n",
       "    }\n",
       "\n",
       "    .dataframe thead th {\n",
       "        text-align: right;\n",
       "    }\n",
       "</style>\n",
       "<table border=\"1\" class=\"dataframe\">\n",
       "  <thead>\n",
       "    <tr style=\"text-align: right;\">\n",
       "      <th></th>\n",
       "      <th>cuenta</th>\n",
       "      <th>partido</th>\n",
       "      <th>timestamp</th>\n",
       "      <th>tweet</th>\n",
       "    </tr>\n",
       "  </thead>\n",
       "  <tbody>\n",
       "    <tr>\n",
       "      <th>0</th>\n",
       "      <td>a34133350b0605cb24081843f63176ca</td>\n",
       "      <td>psoe</td>\n",
       "      <td>1.363973e+09</td>\n",
       "      <td>@vesteve3 @manubenas @ccoo_rm @desobediencia_ ...</td>\n",
       "    </tr>\n",
       "    <tr>\n",
       "      <th>1</th>\n",
       "      <td>a34133350b0605cb24081843f63176ca</td>\n",
       "      <td>psoe</td>\n",
       "      <td>1.364061e+09</td>\n",
       "      <td>“@kirovast: @Hugo_Moran muy fan de la \"radical...</td>\n",
       "    </tr>\n",
       "    <tr>\n",
       "      <th>2</th>\n",
       "      <td>a34133350b0605cb24081843f63176ca</td>\n",
       "      <td>psoe</td>\n",
       "      <td>1.364117e+09</td>\n",
       "      <td>@ALTAS_PRESIONES Nuevos dueños para las renova...</td>\n",
       "    </tr>\n",
       "    <tr>\n",
       "      <th>3</th>\n",
       "      <td>a34133350b0605cb24081843f63176ca</td>\n",
       "      <td>psoe</td>\n",
       "      <td>1.364121e+09</td>\n",
       "      <td>@jumanjisolar @solartradex @josea_dolera El di...</td>\n",
       "    </tr>\n",
       "    <tr>\n",
       "      <th>4</th>\n",
       "      <td>a34133350b0605cb24081843f63176ca</td>\n",
       "      <td>psoe</td>\n",
       "      <td>1.364153e+09</td>\n",
       "      <td>“@cesarnayu: https://t.co/J4OTXj1x7w … Por fav...</td>\n",
       "    </tr>\n",
       "    <tr>\n",
       "      <th>...</th>\n",
       "      <td>...</td>\n",
       "      <td>...</td>\n",
       "      <td>...</td>\n",
       "      <td>...</td>\n",
       "    </tr>\n",
       "    <tr>\n",
       "      <th>3541</th>\n",
       "      <td>17a22be4bc7df5003f42b47747ba243d</td>\n",
       "      <td>ciudadanos</td>\n",
       "      <td>1.558593e+09</td>\n",
       "      <td>PPSOE han permitido durante décadas que la esc...</td>\n",
       "    </tr>\n",
       "    <tr>\n",
       "      <th>3542</th>\n",
       "      <td>e1168e07ec49adb0a0fc2972c5bdd44c</td>\n",
       "      <td>podemos</td>\n",
       "      <td>1.558594e+09</td>\n",
       "      <td>El domingo España tendrá la oportunidad de ele...</td>\n",
       "    </tr>\n",
       "    <tr>\n",
       "      <th>3543</th>\n",
       "      <td>762f4c7cf3d423f8b9152664cc09c70e</td>\n",
       "      <td>pp</td>\n",
       "      <td>1.558594e+09</td>\n",
       "      <td>☀️ ¡Buenos días!Hoy estaré en Extremadura, jun...</td>\n",
       "    </tr>\n",
       "    <tr>\n",
       "      <th>3544</th>\n",
       "      <td>9a4d80c7bfc23995a0ff00f9daebf5e9</td>\n",
       "      <td>ciudadanos</td>\n",
       "      <td>1.558594e+09</td>\n",
       "      <td>Se acabó, sr Sánchez y sra Batet. A obedecer a...</td>\n",
       "    </tr>\n",
       "    <tr>\n",
       "      <th>3545</th>\n",
       "      <td>9a4d80c7bfc23995a0ff00f9daebf5e9</td>\n",
       "      <td>ciudadanos</td>\n",
       "      <td>1.558594e+09</td>\n",
       "      <td>Se acabó, sr Sánchez y sra Batet. A obedecer a...</td>\n",
       "    </tr>\n",
       "  </tbody>\n",
       "</table>\n",
       "<p>3546 rows × 4 columns</p>\n",
       "</div>"
      ],
      "text/plain": [
       "                                cuenta     partido     timestamp  \\\n",
       "0     a34133350b0605cb24081843f63176ca        psoe  1.363973e+09   \n",
       "1     a34133350b0605cb24081843f63176ca        psoe  1.364061e+09   \n",
       "2     a34133350b0605cb24081843f63176ca        psoe  1.364117e+09   \n",
       "3     a34133350b0605cb24081843f63176ca        psoe  1.364121e+09   \n",
       "4     a34133350b0605cb24081843f63176ca        psoe  1.364153e+09   \n",
       "...                                ...         ...           ...   \n",
       "3541  17a22be4bc7df5003f42b47747ba243d  ciudadanos  1.558593e+09   \n",
       "3542  e1168e07ec49adb0a0fc2972c5bdd44c     podemos  1.558594e+09   \n",
       "3543  762f4c7cf3d423f8b9152664cc09c70e          pp  1.558594e+09   \n",
       "3544  9a4d80c7bfc23995a0ff00f9daebf5e9  ciudadanos  1.558594e+09   \n",
       "3545  9a4d80c7bfc23995a0ff00f9daebf5e9  ciudadanos  1.558594e+09   \n",
       "\n",
       "                                                  tweet  \n",
       "0     @vesteve3 @manubenas @ccoo_rm @desobediencia_ ...  \n",
       "1     “@kirovast: @Hugo_Moran muy fan de la \"radical...  \n",
       "2     @ALTAS_PRESIONES Nuevos dueños para las renova...  \n",
       "3     @jumanjisolar @solartradex @josea_dolera El di...  \n",
       "4     “@cesarnayu: https://t.co/J4OTXj1x7w … Por fav...  \n",
       "...                                                 ...  \n",
       "3541  PPSOE han permitido durante décadas que la esc...  \n",
       "3542  El domingo España tendrá la oportunidad de ele...  \n",
       "3543  ☀️ ¡Buenos días!Hoy estaré en Extremadura, jun...  \n",
       "3544  Se acabó, sr Sánchez y sra Batet. A obedecer a...  \n",
       "3545  Se acabó, sr Sánchez y sra Batet. A obedecer a...  \n",
       "\n",
       "[3546 rows x 4 columns]"
      ]
     },
     "execution_count": 4,
     "metadata": {},
     "output_type": "execute_result"
    }
   ],
   "source": [
    "df = pd.read_csv(csv_file_path, delimiter='\\t', on_bad_lines='skip')\n",
    "\n",
    "df"
   ]
  },
  {
   "cell_type": "code",
   "execution_count": 5,
   "id": "98e87dec-44fb-4c97-ba44-3a6f87c9fc39",
   "metadata": {},
   "outputs": [
    {
     "data": {
      "text/html": [
       "<div>\n",
       "<style scoped>\n",
       "    .dataframe tbody tr th:only-of-type {\n",
       "        vertical-align: middle;\n",
       "    }\n",
       "\n",
       "    .dataframe tbody tr th {\n",
       "        vertical-align: top;\n",
       "    }\n",
       "\n",
       "    .dataframe thead th {\n",
       "        text-align: right;\n",
       "    }\n",
       "</style>\n",
       "<table border=\"1\" class=\"dataframe\">\n",
       "  <thead>\n",
       "    <tr style=\"text-align: right;\">\n",
       "      <th></th>\n",
       "      <th>tweet</th>\n",
       "    </tr>\n",
       "  </thead>\n",
       "  <tbody>\n",
       "    <tr>\n",
       "      <th>0</th>\n",
       "      <td>@vesteve3 @manubenas @ccoo_rm @desobediencia_ ...</td>\n",
       "    </tr>\n",
       "    <tr>\n",
       "      <th>1</th>\n",
       "      <td>“@kirovast: @Hugo_Moran muy fan de la \"radical...</td>\n",
       "    </tr>\n",
       "    <tr>\n",
       "      <th>2</th>\n",
       "      <td>@ALTAS_PRESIONES Nuevos dueños para las renova...</td>\n",
       "    </tr>\n",
       "    <tr>\n",
       "      <th>3</th>\n",
       "      <td>@jumanjisolar @solartradex @josea_dolera El di...</td>\n",
       "    </tr>\n",
       "    <tr>\n",
       "      <th>4</th>\n",
       "      <td>“@cesarnayu: https://t.co/J4OTXj1x7w … Por fav...</td>\n",
       "    </tr>\n",
       "    <tr>\n",
       "      <th>...</th>\n",
       "      <td>...</td>\n",
       "    </tr>\n",
       "    <tr>\n",
       "      <th>3541</th>\n",
       "      <td>PPSOE han permitido durante décadas que la esc...</td>\n",
       "    </tr>\n",
       "    <tr>\n",
       "      <th>3542</th>\n",
       "      <td>El domingo España tendrá la oportunidad de ele...</td>\n",
       "    </tr>\n",
       "    <tr>\n",
       "      <th>3543</th>\n",
       "      <td>☀️ ¡Buenos días!Hoy estaré en Extremadura, jun...</td>\n",
       "    </tr>\n",
       "    <tr>\n",
       "      <th>3544</th>\n",
       "      <td>Se acabó, sr Sánchez y sra Batet. A obedecer a...</td>\n",
       "    </tr>\n",
       "    <tr>\n",
       "      <th>3545</th>\n",
       "      <td>Se acabó, sr Sánchez y sra Batet. A obedecer a...</td>\n",
       "    </tr>\n",
       "  </tbody>\n",
       "</table>\n",
       "<p>3546 rows × 1 columns</p>\n",
       "</div>"
      ],
      "text/plain": [
       "                                                  tweet\n",
       "0     @vesteve3 @manubenas @ccoo_rm @desobediencia_ ...\n",
       "1     “@kirovast: @Hugo_Moran muy fan de la \"radical...\n",
       "2     @ALTAS_PRESIONES Nuevos dueños para las renova...\n",
       "3     @jumanjisolar @solartradex @josea_dolera El di...\n",
       "4     “@cesarnayu: https://t.co/J4OTXj1x7w … Por fav...\n",
       "...                                                 ...\n",
       "3541  PPSOE han permitido durante décadas que la esc...\n",
       "3542  El domingo España tendrá la oportunidad de ele...\n",
       "3543  ☀️ ¡Buenos días!Hoy estaré en Extremadura, jun...\n",
       "3544  Se acabó, sr Sánchez y sra Batet. A obedecer a...\n",
       "3545  Se acabó, sr Sánchez y sra Batet. A obedecer a...\n",
       "\n",
       "[3546 rows x 1 columns]"
      ]
     },
     "execution_count": 5,
     "metadata": {},
     "output_type": "execute_result"
    }
   ],
   "source": [
    "df = df.drop(columns=['cuenta', 'timestamp', 'partido'])\n",
    "df"
   ]
  },
  {
   "cell_type": "code",
   "execution_count": 24,
   "id": "3e714fda-d504-412f-a341-ce3adb3d326f",
   "metadata": {},
   "outputs": [
    {
     "name": "stderr",
     "output_type": "stream",
     "text": [
      "100%|████████████████████████████████████| 3546/3546 [00:00<00:00, 51131.23it/s]\n"
     ]
    }
   ],
   "source": [
    "import re\n",
    "import unidecode\n",
    "from tqdm import tqdm\n",
    "\n",
    "def clean_tweet(tweet):\n",
    "    tweet = tweet.lower()\n",
    "    tweet = unidecode.unidecode(tweet)  # Normalizar caracteres con tildes\n",
    "    tweet = re.sub(r'http\\S+', '', tweet)  # Eliminar URLs\n",
    "    tweet = re.sub(r'@\\w+', '', tweet)  # Eliminar menciones\n",
    "    tweet = re.sub(r'#\\w+', '', tweet)  # Eliminar hashtags\n",
    "    tweet = re.sub(r'[^\\w\\s]', '', tweet)  # Eliminar caracteres especiales\n",
    "    return tweet.strip()\n",
    "\n",
    "tqdm.pandas()\n",
    "df['clean_tweet'] = df['tweet'].progress_apply(clean_tweet)\n",
    "\n",
    "df[[ 'clean_tweet']].sample(5)\n",
    "df = df.drop(columns=['tweet'])"
   ]
  },
  {
   "cell_type": "code",
   "execution_count": 26,
   "id": "461643e2-2603-4e64-9e4c-576a99f54ae8",
   "metadata": {},
   "outputs": [],
   "source": [
    "df.to_csv('../Clean_Dataset/Data_evaluation.csv', index=False)"
   ]
  },
  {
   "cell_type": "code",
   "execution_count": 58,
   "id": "10dbc6b6-bd6f-444a-b623-fbf8993d233c",
   "metadata": {},
   "outputs": [],
   "source": [
    "pd.DataFrame({'clean_tweet': [\"Esta es una frase no toxica.\", \"Esta mierda es muy toxica.\", \"A llorar a la llorería\", \"Eres un pelotudo\"]}).to_csv('../Clean_Dataset/Frase_Test.csv', index=False)"
   ]
  },
  {
   "cell_type": "code",
   "execution_count": 21,
   "id": "92dc09c3-9c0d-4a17-a751-bc266d07da3e",
   "metadata": {},
   "outputs": [
    {
     "data": {
      "text/plain": [
       "tweet          0\n",
       "clean_tweet    0\n",
       "dtype: int64"
      ]
     },
     "execution_count": 21,
     "metadata": {},
     "output_type": "execute_result"
    }
   ],
   "source": [
    "df.isnull().sum()"
   ]
  }
 ],
 "metadata": {
  "kernelspec": {
   "display_name": "Python 3 (ipykernel)",
   "language": "python",
   "name": "python3"
  },
  "language_info": {
   "codemirror_mode": {
    "name": "ipython",
    "version": 3
   },
   "file_extension": ".py",
   "mimetype": "text/x-python",
   "name": "python",
   "nbconvert_exporter": "python",
   "pygments_lexer": "ipython3",
   "version": "3.12.4"
  }
 },
 "nbformat": 4,
 "nbformat_minor": 5
}
